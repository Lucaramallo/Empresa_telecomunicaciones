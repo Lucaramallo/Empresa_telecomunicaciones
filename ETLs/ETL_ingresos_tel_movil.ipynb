{
 "cells": [
  {
   "cell_type": "code",
   "execution_count": 106,
   "metadata": {},
   "outputs": [],
   "source": [
    "import pandas as pd"
   ]
  },
  {
   "cell_type": "code",
   "execution_count": 107,
   "metadata": {},
   "outputs": [],
   "source": [
    "url = 'https://datosabiertos.enacom.gob.ar/rest/datastreams/288813/data.csv'\n",
    "df_ingr_tel_mov = pd.read_csv(url,thousands='.', encoding='UTF-8', sep=',')"
   ]
  },
  {
   "cell_type": "code",
   "execution_count": 108,
   "metadata": {},
   "outputs": [
    {
     "data": {
      "text/html": [
       "<div>\n",
       "<style scoped>\n",
       "    .dataframe tbody tr th:only-of-type {\n",
       "        vertical-align: middle;\n",
       "    }\n",
       "\n",
       "    .dataframe tbody tr th {\n",
       "        vertical-align: top;\n",
       "    }\n",
       "\n",
       "    .dataframe thead th {\n",
       "        text-align: right;\n",
       "    }\n",
       "</style>\n",
       "<table border=\"1\" class=\"dataframe\">\n",
       "  <thead>\n",
       "    <tr style=\"text-align: right;\">\n",
       "      <th></th>\n",
       "      <th>Año</th>\n",
       "      <th>Trimestre</th>\n",
       "      <th>Ingresos (miles de $)</th>\n",
       "      <th>Periodo</th>\n",
       "    </tr>\n",
       "  </thead>\n",
       "  <tbody>\n",
       "    <tr>\n",
       "      <th>0</th>\n",
       "      <td>2013</td>\n",
       "      <td>1</td>\n",
       "      <td>$ 13.135.235</td>\n",
       "      <td>Ene-Mar 2013</td>\n",
       "    </tr>\n",
       "    <tr>\n",
       "      <th>1</th>\n",
       "      <td>2013</td>\n",
       "      <td>2</td>\n",
       "      <td>$ 13.970.806</td>\n",
       "      <td>Abr-Jun 2013</td>\n",
       "    </tr>\n",
       "    <tr>\n",
       "      <th>2</th>\n",
       "      <td>2013</td>\n",
       "      <td>3</td>\n",
       "      <td>$ 15.235.659</td>\n",
       "      <td>Jul-Sept 2013</td>\n",
       "    </tr>\n",
       "    <tr>\n",
       "      <th>3</th>\n",
       "      <td>2013</td>\n",
       "      <td>4</td>\n",
       "      <td>$ 16.218.846</td>\n",
       "      <td>Oct-Dic 2013</td>\n",
       "    </tr>\n",
       "    <tr>\n",
       "      <th>4</th>\n",
       "      <td>2014</td>\n",
       "      <td>1</td>\n",
       "      <td>$ 15.938.353</td>\n",
       "      <td>Ene-Mar 2013</td>\n",
       "    </tr>\n",
       "  </tbody>\n",
       "</table>\n",
       "</div>"
      ],
      "text/plain": [
       "    Año  Trimestre Ingresos (miles de $)        Periodo\n",
       "0  2013          1          $ 13.135.235   Ene-Mar 2013\n",
       "1  2013          2          $ 13.970.806   Abr-Jun 2013\n",
       "2  2013          3          $ 15.235.659  Jul-Sept 2013\n",
       "3  2013          4          $ 16.218.846   Oct-Dic 2013\n",
       "4  2014          1          $ 15.938.353   Ene-Mar 2013"
      ]
     },
     "execution_count": 108,
     "metadata": {},
     "output_type": "execute_result"
    }
   ],
   "source": [
    "df_ingr_tel_mov.head()"
   ]
  },
  {
   "cell_type": "code",
   "execution_count": 109,
   "metadata": {},
   "outputs": [
    {
     "name": "stdout",
     "output_type": "stream",
     "text": [
      "<class 'pandas.core.frame.DataFrame'>\n",
      "RangeIndex: 39 entries, 0 to 38\n",
      "Data columns (total 4 columns):\n",
      " #   Column                 Non-Null Count  Dtype \n",
      "---  ------                 --------------  ----- \n",
      " 0   Año                    39 non-null     int64 \n",
      " 1   Trimestre              39 non-null     int64 \n",
      " 2   Ingresos (miles de $)  39 non-null     object\n",
      " 3   Periodo                39 non-null     object\n",
      "dtypes: int64(2), object(2)\n",
      "memory usage: 1.3+ KB\n"
     ]
    }
   ],
   "source": [
    "df_ingr_tel_mov.info()"
   ]
  },
  {
   "cell_type": "code",
   "execution_count": 110,
   "metadata": {},
   "outputs": [
    {
     "data": {
      "text/html": [
       "<div>\n",
       "<style scoped>\n",
       "    .dataframe tbody tr th:only-of-type {\n",
       "        vertical-align: middle;\n",
       "    }\n",
       "\n",
       "    .dataframe tbody tr th {\n",
       "        vertical-align: top;\n",
       "    }\n",
       "\n",
       "    .dataframe thead th {\n",
       "        text-align: right;\n",
       "    }\n",
       "</style>\n",
       "<table border=\"1\" class=\"dataframe\">\n",
       "  <thead>\n",
       "    <tr style=\"text-align: right;\">\n",
       "      <th></th>\n",
       "      <th>Año</th>\n",
       "      <th>Trimestre</th>\n",
       "      <th>Ingresos (miles de $)</th>\n",
       "      <th>Periodo</th>\n",
       "    </tr>\n",
       "  </thead>\n",
       "  <tbody>\n",
       "    <tr>\n",
       "      <th>0</th>\n",
       "      <td>2013</td>\n",
       "      <td>1</td>\n",
       "      <td>13135235</td>\n",
       "      <td>Ene-Mar 2013</td>\n",
       "    </tr>\n",
       "    <tr>\n",
       "      <th>1</th>\n",
       "      <td>2013</td>\n",
       "      <td>2</td>\n",
       "      <td>13970806</td>\n",
       "      <td>Abr-Jun 2013</td>\n",
       "    </tr>\n",
       "    <tr>\n",
       "      <th>2</th>\n",
       "      <td>2013</td>\n",
       "      <td>3</td>\n",
       "      <td>15235659</td>\n",
       "      <td>Jul-Sept 2013</td>\n",
       "    </tr>\n",
       "    <tr>\n",
       "      <th>3</th>\n",
       "      <td>2013</td>\n",
       "      <td>4</td>\n",
       "      <td>16218846</td>\n",
       "      <td>Oct-Dic 2013</td>\n",
       "    </tr>\n",
       "    <tr>\n",
       "      <th>4</th>\n",
       "      <td>2014</td>\n",
       "      <td>1</td>\n",
       "      <td>15938353</td>\n",
       "      <td>Ene-Mar 2013</td>\n",
       "    </tr>\n",
       "  </tbody>\n",
       "</table>\n",
       "</div>"
      ],
      "text/plain": [
       "    Año  Trimestre  Ingresos (miles de $)        Periodo\n",
       "0  2013          1               13135235   Ene-Mar 2013\n",
       "1  2013          2               13970806   Abr-Jun 2013\n",
       "2  2013          3               15235659  Jul-Sept 2013\n",
       "3  2013          4               16218846   Oct-Dic 2013\n",
       "4  2014          1               15938353   Ene-Mar 2013"
      ]
     },
     "execution_count": 110,
     "metadata": {},
     "output_type": "execute_result"
    }
   ],
   "source": [
    "# Eliminar el signo \"$\" de los valores en la columna \"Ingresos (miles de $)\"\n",
    "df_ingr_tel_mov['Ingresos (miles de $)'] = df_ingr_tel_mov['Ingresos (miles de $)'].str.replace('$', '', regex=False)\n",
    "# Convertir los valores en la columna \"Ingresos (miles de $)\" a enteros\n",
    "df_ingr_tel_mov['Ingresos (miles de $)'] = df_ingr_tel_mov['Ingresos (miles de $)'].str.replace('.', '', regex=False).astype('Int64')\n",
    "df_ingr_tel_mov.head(5)"
   ]
  },
  {
   "cell_type": "code",
   "execution_count": 111,
   "metadata": {},
   "outputs": [
    {
     "name": "stdout",
     "output_type": "stream",
     "text": [
      "<class 'pandas.core.frame.DataFrame'>\n",
      "RangeIndex: 39 entries, 0 to 38\n",
      "Data columns (total 4 columns):\n",
      " #   Column                 Non-Null Count  Dtype \n",
      "---  ------                 --------------  ----- \n",
      " 0   Año                    39 non-null     int64 \n",
      " 1   Trimestre              39 non-null     int64 \n",
      " 2   Ingresos (miles de $)  39 non-null     Int64 \n",
      " 3   Periodo                39 non-null     object\n",
      "dtypes: Int64(1), int64(2), object(1)\n",
      "memory usage: 1.4+ KB\n"
     ]
    }
   ],
   "source": [
    "df_ingr_tel_mov.info()"
   ]
  },
  {
   "cell_type": "code",
   "execution_count": 112,
   "metadata": {},
   "outputs": [
    {
     "data": {
      "text/plain": [
       "Año                      0\n",
       "Trimestre                0\n",
       "Ingresos (miles de $)    0\n",
       "Periodo                  0\n",
       "dtype: int64"
      ]
     },
     "execution_count": 112,
     "metadata": {},
     "output_type": "execute_result"
    }
   ],
   "source": [
    "df_ingr_tel_mov.isnull().sum()"
   ]
  },
  {
   "cell_type": "code",
   "execution_count": 113,
   "metadata": {},
   "outputs": [
    {
     "data": {
      "text/html": [
       "<div>\n",
       "<style scoped>\n",
       "    .dataframe tbody tr th:only-of-type {\n",
       "        vertical-align: middle;\n",
       "    }\n",
       "\n",
       "    .dataframe tbody tr th {\n",
       "        vertical-align: top;\n",
       "    }\n",
       "\n",
       "    .dataframe thead th {\n",
       "        text-align: right;\n",
       "    }\n",
       "</style>\n",
       "<table border=\"1\" class=\"dataframe\">\n",
       "  <thead>\n",
       "    <tr style=\"text-align: right;\">\n",
       "      <th></th>\n",
       "      <th>Año</th>\n",
       "      <th>Trimestre</th>\n",
       "      <th>Ingresos (miles de $)</th>\n",
       "      <th>Periodo</th>\n",
       "    </tr>\n",
       "  </thead>\n",
       "  <tbody>\n",
       "    <tr>\n",
       "      <th>0</th>\n",
       "      <td>2013</td>\n",
       "      <td>1</td>\n",
       "      <td>13135235</td>\n",
       "      <td>Ene-Mar 2013</td>\n",
       "    </tr>\n",
       "    <tr>\n",
       "      <th>1</th>\n",
       "      <td>2013</td>\n",
       "      <td>2</td>\n",
       "      <td>13970806</td>\n",
       "      <td>Abr-Jun 2013</td>\n",
       "    </tr>\n",
       "    <tr>\n",
       "      <th>2</th>\n",
       "      <td>2013</td>\n",
       "      <td>3</td>\n",
       "      <td>15235659</td>\n",
       "      <td>Jul-Sept 2013</td>\n",
       "    </tr>\n",
       "    <tr>\n",
       "      <th>3</th>\n",
       "      <td>2013</td>\n",
       "      <td>4</td>\n",
       "      <td>16218846</td>\n",
       "      <td>Oct-Dic 2013</td>\n",
       "    </tr>\n",
       "    <tr>\n",
       "      <th>4</th>\n",
       "      <td>2014</td>\n",
       "      <td>1</td>\n",
       "      <td>15938353</td>\n",
       "      <td>Ene-Mar 2013</td>\n",
       "    </tr>\n",
       "  </tbody>\n",
       "</table>\n",
       "</div>"
      ],
      "text/plain": [
       "    Año  Trimestre  Ingresos (miles de $)        Periodo\n",
       "0  2013          1               13135235   Ene-Mar 2013\n",
       "1  2013          2               13970806   Abr-Jun 2013\n",
       "2  2013          3               15235659  Jul-Sept 2013\n",
       "3  2013          4               16218846   Oct-Dic 2013\n",
       "4  2014          1               15938353   Ene-Mar 2013"
      ]
     },
     "execution_count": 113,
     "metadata": {},
     "output_type": "execute_result"
    }
   ],
   "source": [
    "df_ingr_tel_mov.drop_duplicates().head()"
   ]
  },
  {
   "cell_type": "code",
   "execution_count": 114,
   "metadata": {},
   "outputs": [
    {
     "data": {
      "text/html": [
       "<div>\n",
       "<style scoped>\n",
       "    .dataframe tbody tr th:only-of-type {\n",
       "        vertical-align: middle;\n",
       "    }\n",
       "\n",
       "    .dataframe tbody tr th {\n",
       "        vertical-align: top;\n",
       "    }\n",
       "\n",
       "    .dataframe thead th {\n",
       "        text-align: right;\n",
       "    }\n",
       "</style>\n",
       "<table border=\"1\" class=\"dataframe\">\n",
       "  <thead>\n",
       "    <tr style=\"text-align: right;\">\n",
       "      <th></th>\n",
       "      <th>Año</th>\n",
       "      <th>Trimestre</th>\n",
       "      <th>Ingresos (miles de $)</th>\n",
       "      <th>Periodo</th>\n",
       "    </tr>\n",
       "  </thead>\n",
       "  <tbody>\n",
       "    <tr>\n",
       "      <th>count</th>\n",
       "      <td>39.000000</td>\n",
       "      <td>39.000000</td>\n",
       "      <td>39.0</td>\n",
       "      <td>39</td>\n",
       "    </tr>\n",
       "    <tr>\n",
       "      <th>unique</th>\n",
       "      <td>NaN</td>\n",
       "      <td>NaN</td>\n",
       "      <td>&lt;NA&gt;</td>\n",
       "      <td>38</td>\n",
       "    </tr>\n",
       "    <tr>\n",
       "      <th>top</th>\n",
       "      <td>NaN</td>\n",
       "      <td>NaN</td>\n",
       "      <td>&lt;NA&gt;</td>\n",
       "      <td>Ene-Mar 2013</td>\n",
       "    </tr>\n",
       "    <tr>\n",
       "      <th>freq</th>\n",
       "      <td>NaN</td>\n",
       "      <td>NaN</td>\n",
       "      <td>&lt;NA&gt;</td>\n",
       "      <td>2</td>\n",
       "    </tr>\n",
       "    <tr>\n",
       "      <th>mean</th>\n",
       "      <td>2017.384615</td>\n",
       "      <td>2.461538</td>\n",
       "      <td>53108114.974359</td>\n",
       "      <td>NaN</td>\n",
       "    </tr>\n",
       "    <tr>\n",
       "      <th>std</th>\n",
       "      <td>2.852657</td>\n",
       "      <td>1.120295</td>\n",
       "      <td>41903566.704946</td>\n",
       "      <td>NaN</td>\n",
       "    </tr>\n",
       "    <tr>\n",
       "      <th>min</th>\n",
       "      <td>2013.000000</td>\n",
       "      <td>1.000000</td>\n",
       "      <td>13135235.0</td>\n",
       "      <td>NaN</td>\n",
       "    </tr>\n",
       "    <tr>\n",
       "      <th>25%</th>\n",
       "      <td>2015.000000</td>\n",
       "      <td>1.500000</td>\n",
       "      <td>20898785.0</td>\n",
       "      <td>NaN</td>\n",
       "    </tr>\n",
       "    <tr>\n",
       "      <th>50%</th>\n",
       "      <td>2017.000000</td>\n",
       "      <td>2.000000</td>\n",
       "      <td>38110028.0</td>\n",
       "      <td>NaN</td>\n",
       "    </tr>\n",
       "    <tr>\n",
       "      <th>75%</th>\n",
       "      <td>2020.000000</td>\n",
       "      <td>3.000000</td>\n",
       "      <td>72808045.5</td>\n",
       "      <td>NaN</td>\n",
       "    </tr>\n",
       "    <tr>\n",
       "      <th>max</th>\n",
       "      <td>2022.000000</td>\n",
       "      <td>4.000000</td>\n",
       "      <td>174057836.0</td>\n",
       "      <td>NaN</td>\n",
       "    </tr>\n",
       "  </tbody>\n",
       "</table>\n",
       "</div>"
      ],
      "text/plain": [
       "                Año  Trimestre  Ingresos (miles de $)       Periodo\n",
       "count     39.000000  39.000000                   39.0            39\n",
       "unique          NaN        NaN                   <NA>            38\n",
       "top             NaN        NaN                   <NA>  Ene-Mar 2013\n",
       "freq            NaN        NaN                   <NA>             2\n",
       "mean    2017.384615   2.461538        53108114.974359           NaN\n",
       "std        2.852657   1.120295        41903566.704946           NaN\n",
       "min     2013.000000   1.000000             13135235.0           NaN\n",
       "25%     2015.000000   1.500000             20898785.0           NaN\n",
       "50%     2017.000000   2.000000             38110028.0           NaN\n",
       "75%     2020.000000   3.000000             72808045.5           NaN\n",
       "max     2022.000000   4.000000            174057836.0           NaN"
      ]
     },
     "execution_count": 114,
     "metadata": {},
     "output_type": "execute_result"
    }
   ],
   "source": [
    "df_ingr_tel_mov.describe(include='all')"
   ]
  },
  {
   "cell_type": "code",
   "execution_count": 115,
   "metadata": {},
   "outputs": [],
   "source": [
    "df_ingr_tel_mov.rename(columns={'Año': 'anio'}, inplace=True)\n",
    "df_ingr_tel_mov.rename(columns={'Trimestre': 'trimestre'}, inplace=True)\n",
    "df_ingr_tel_mov.rename(columns={'Ingresos (miles de $)': 'ingresos (miles de pesos)'}, inplace=True)\n",
    "df_ingr_tel_mov.rename(columns={'Periodo': 'periodo'}, inplace=True)"
   ]
  },
  {
   "cell_type": "code",
   "execution_count": 116,
   "metadata": {},
   "outputs": [],
   "source": [
    "df_ingr_tel_mov['anio_tri'] = df_ingr_tel_mov['anio'].astype(str) + df_ingr_tel_mov['trimestre'].astype(str)"
   ]
  },
  {
   "cell_type": "code",
   "execution_count": 117,
   "metadata": {},
   "outputs": [],
   "source": [
    "# Situar la columna 'anio_tri' como la primera columna\n",
    "df_ingr_tel_mov = df_ingr_tel_mov[['anio_tri'] + df_ingr_tel_mov.columns[:-1].tolist()]"
   ]
  },
  {
   "cell_type": "code",
   "execution_count": 118,
   "metadata": {},
   "outputs": [],
   "source": [
    "import seaborn as sns"
   ]
  },
  {
   "cell_type": "code",
   "execution_count": 119,
   "metadata": {},
   "outputs": [
    {
     "data": {
      "text/plain": [
       "<seaborn.axisgrid.PairGrid at 0x229cd69c6a0>"
      ]
     },
     "execution_count": 119,
     "metadata": {},
     "output_type": "execute_result"
    },
    {
     "data": {
      "image/png": "[encoded data removed]",
      "text/plain": [
       "<Figure size 844.125x750 with 12 Axes>"
      ]
     },
     "metadata": {},
     "output_type": "display_data"
    }
   ],
   "source": [
    "sns.pairplot(df_ingr_tel_mov,hue='anio_tri')"
   ]
  },
  {
   "cell_type": "code",
   "execution_count": 120,
   "metadata": {},
   "outputs": [],
   "source": [
    "df_ingr_tel_mov = df_ingr_tel_mov.sort_values(by=['anio_tri'])"
   ]
  },
  {
   "cell_type": "code",
   "execution_count": 121,
   "metadata": {},
   "outputs": [],
   "source": [
    "# Calcular la variación porcentual\n",
    "df_ingr_tel_mov['variacion trimestral ingresos (miles de pesos)'] = df_ingr_tel_mov['ingresos (miles de pesos)'].pct_change()\n",
    "\n",
    "# Reordenar las columnas para que la nueva columna quede junto a \"trimestre\" y \"ingresos (miles de pesos)\"\n",
    "df_ingr_tel_mov = df_ingr_tel_mov[['anio_tri', 'anio', 'trimestre', 'variacion trimestral ingresos (miles de pesos)', 'ingresos (miles de pesos)', 'periodo']]"
   ]
  },
  {
   "cell_type": "code",
   "execution_count": 122,
   "metadata": {},
   "outputs": [
    {
     "data": {
      "text/html": [
       "<div>\n",
       "<style scoped>\n",
       "    .dataframe tbody tr th:only-of-type {\n",
       "        vertical-align: middle;\n",
       "    }\n",
       "\n",
       "    .dataframe tbody tr th {\n",
       "        vertical-align: top;\n",
       "    }\n",
       "\n",
       "    .dataframe thead th {\n",
       "        text-align: right;\n",
       "    }\n",
       "</style>\n",
       "<table border=\"1\" class=\"dataframe\">\n",
       "  <thead>\n",
       "    <tr style=\"text-align: right;\">\n",
       "      <th></th>\n",
       "      <th>anio</th>\n",
       "      <th>trimestre</th>\n",
       "      <th>variacion trimestral ingresos (miles de pesos)</th>\n",
       "      <th>ingresos (miles de pesos)</th>\n",
       "    </tr>\n",
       "  </thead>\n",
       "  <tbody>\n",
       "    <tr>\n",
       "      <th>count</th>\n",
       "      <td>39.000000</td>\n",
       "      <td>39.000000</td>\n",
       "      <td>38.0</td>\n",
       "      <td>39.0</td>\n",
       "    </tr>\n",
       "    <tr>\n",
       "      <th>mean</th>\n",
       "      <td>2017.384615</td>\n",
       "      <td>2.461538</td>\n",
       "      <td>0.071362</td>\n",
       "      <td>53108114.974359</td>\n",
       "    </tr>\n",
       "    <tr>\n",
       "      <th>std</th>\n",
       "      <td>2.852657</td>\n",
       "      <td>1.120295</td>\n",
       "      <td>0.046629</td>\n",
       "      <td>41903566.704946</td>\n",
       "    </tr>\n",
       "    <tr>\n",
       "      <th>min</th>\n",
       "      <td>2013.000000</td>\n",
       "      <td>1.000000</td>\n",
       "      <td>-0.033729</td>\n",
       "      <td>13135235.0</td>\n",
       "    </tr>\n",
       "    <tr>\n",
       "      <th>25%</th>\n",
       "      <td>2015.000000</td>\n",
       "      <td>1.500000</td>\n",
       "      <td>0.038501</td>\n",
       "      <td>20898785.0</td>\n",
       "    </tr>\n",
       "    <tr>\n",
       "      <th>50%</th>\n",
       "      <td>2017.000000</td>\n",
       "      <td>2.000000</td>\n",
       "      <td>0.073426</td>\n",
       "      <td>38110028.0</td>\n",
       "    </tr>\n",
       "    <tr>\n",
       "      <th>75%</th>\n",
       "      <td>2020.000000</td>\n",
       "      <td>3.000000</td>\n",
       "      <td>0.101157</td>\n",
       "      <td>72808045.5</td>\n",
       "    </tr>\n",
       "    <tr>\n",
       "      <th>max</th>\n",
       "      <td>2022.000000</td>\n",
       "      <td>4.000000</td>\n",
       "      <td>0.173069</td>\n",
       "      <td>174057836.0</td>\n",
       "    </tr>\n",
       "  </tbody>\n",
       "</table>\n",
       "</div>"
      ],
      "text/plain": [
       "              anio  trimestre  variacion trimestral ingresos (miles de pesos)  \\\n",
       "count    39.000000  39.000000                                            38.0   \n",
       "mean   2017.384615   2.461538                                        0.071362   \n",
       "std       2.852657   1.120295                                        0.046629   \n",
       "min    2013.000000   1.000000                                       -0.033729   \n",
       "25%    2015.000000   1.500000                                        0.038501   \n",
       "50%    2017.000000   2.000000                                        0.073426   \n",
       "75%    2020.000000   3.000000                                        0.101157   \n",
       "max    2022.000000   4.000000                                        0.173069   \n",
       "\n",
       "       ingresos (miles de pesos)  \n",
       "count                       39.0  \n",
       "mean             53108114.974359  \n",
       "std              41903566.704946  \n",
       "min                   13135235.0  \n",
       "25%                   20898785.0  \n",
       "50%                   38110028.0  \n",
       "75%                   72808045.5  \n",
       "max                  174057836.0  "
      ]
     },
     "execution_count": 122,
     "metadata": {},
     "output_type": "execute_result"
    }
   ],
   "source": [
    "df_ingr_tel_mov.describe()"
   ]
  },
  {
   "cell_type": "code",
   "execution_count": 123,
   "metadata": {},
   "outputs": [],
   "source": [
    "# Reemplazar los valores nulos con 0\n",
    "df_ingr_tel_mov.fillna(0, inplace=True)\n",
    "\n",
    "# Convertir la columna \"anio_tri\" a int64\n",
    "df_ingr_tel_mov['anio_tri'] = df_ingr_tel_mov['anio_tri'].astype('int64')"
   ]
  },
  {
   "cell_type": "code",
   "execution_count": 124,
   "metadata": {},
   "outputs": [
    {
     "name": "stdout",
     "output_type": "stream",
     "text": [
      "<class 'pandas.core.frame.DataFrame'>\n",
      "Int64Index: 39 entries, 0 to 38\n",
      "Data columns (total 6 columns):\n",
      " #   Column                                          Non-Null Count  Dtype  \n",
      "---  ------                                          --------------  -----  \n",
      " 0   anio_tri                                        39 non-null     int64  \n",
      " 1   anio                                            39 non-null     int64  \n",
      " 2   trimestre                                       39 non-null     int64  \n",
      " 3   variacion trimestral ingresos (miles de pesos)  39 non-null     Float64\n",
      " 4   ingresos (miles de pesos)                       39 non-null     Int64  \n",
      " 5   periodo                                         39 non-null     object \n",
      "dtypes: Float64(1), Int64(1), int64(3), object(1)\n",
      "memory usage: 2.2+ KB\n"
     ]
    }
   ],
   "source": [
    "df_ingr_tel_mov.info()"
   ]
  },
  {
   "cell_type": "code",
   "execution_count": 125,
   "metadata": {},
   "outputs": [
    {
     "data": {
      "text/html": [
       "<div>\n",
       "<style scoped>\n",
       "    .dataframe tbody tr th:only-of-type {\n",
       "        vertical-align: middle;\n",
       "    }\n",
       "\n",
       "    .dataframe tbody tr th {\n",
       "        vertical-align: top;\n",
       "    }\n",
       "\n",
       "    .dataframe thead th {\n",
       "        text-align: right;\n",
       "    }\n",
       "</style>\n",
       "<table border=\"1\" class=\"dataframe\">\n",
       "  <thead>\n",
       "    <tr style=\"text-align: right;\">\n",
       "      <th></th>\n",
       "      <th>anio_tri</th>\n",
       "      <th>anio</th>\n",
       "      <th>trimestre</th>\n",
       "      <th>variacion trimestral ingresos (miles de pesos)</th>\n",
       "      <th>ingresos (miles de pesos)</th>\n",
       "      <th>periodo</th>\n",
       "    </tr>\n",
       "  </thead>\n",
       "  <tbody>\n",
       "    <tr>\n",
       "      <th>0</th>\n",
       "      <td>20131</td>\n",
       "      <td>2013</td>\n",
       "      <td>1</td>\n",
       "      <td>0.0</td>\n",
       "      <td>13135235</td>\n",
       "      <td>Ene-Mar 2013</td>\n",
       "    </tr>\n",
       "    <tr>\n",
       "      <th>1</th>\n",
       "      <td>20132</td>\n",
       "      <td>2013</td>\n",
       "      <td>2</td>\n",
       "      <td>0.063613</td>\n",
       "      <td>13970806</td>\n",
       "      <td>Abr-Jun 2013</td>\n",
       "    </tr>\n",
       "    <tr>\n",
       "      <th>2</th>\n",
       "      <td>20133</td>\n",
       "      <td>2013</td>\n",
       "      <td>3</td>\n",
       "      <td>0.090535</td>\n",
       "      <td>15235659</td>\n",
       "      <td>Jul-Sept 2013</td>\n",
       "    </tr>\n",
       "    <tr>\n",
       "      <th>3</th>\n",
       "      <td>20134</td>\n",
       "      <td>2013</td>\n",
       "      <td>4</td>\n",
       "      <td>0.064532</td>\n",
       "      <td>16218846</td>\n",
       "      <td>Oct-Dic 2013</td>\n",
       "    </tr>\n",
       "    <tr>\n",
       "      <th>4</th>\n",
       "      <td>20141</td>\n",
       "      <td>2014</td>\n",
       "      <td>1</td>\n",
       "      <td>-0.017294</td>\n",
       "      <td>15938353</td>\n",
       "      <td>Ene-Mar 2013</td>\n",
       "    </tr>\n",
       "  </tbody>\n",
       "</table>\n",
       "</div>"
      ],
      "text/plain": [
       "   anio_tri  anio  trimestre  variacion trimestral ingresos (miles de pesos)  \\\n",
       "0     20131  2013          1                                             0.0   \n",
       "1     20132  2013          2                                        0.063613   \n",
       "2     20133  2013          3                                        0.090535   \n",
       "3     20134  2013          4                                        0.064532   \n",
       "4     20141  2014          1                                       -0.017294   \n",
       "\n",
       "   ingresos (miles de pesos)        periodo  \n",
       "0                   13135235   Ene-Mar 2013  \n",
       "1                   13970806   Abr-Jun 2013  \n",
       "2                   15235659  Jul-Sept 2013  \n",
       "3                   16218846   Oct-Dic 2013  \n",
       "4                   15938353   Ene-Mar 2013  "
      ]
     },
     "execution_count": 125,
     "metadata": {},
     "output_type": "execute_result"
    }
   ],
   "source": [
    "df_ingr_tel_mov.head()"
   ]
  },
  {
   "cell_type": "code",
   "execution_count": 126,
   "metadata": {},
   "outputs": [],
   "source": [
    "# Guardar DataFrame como archivo CSV\n",
    "df_ingr_tel_mov.to_csv('../CSV_Cleaned/df_ingr_tel_mov_con_var.csv',mode='w', index=False)"
   ]
  }
 ],
 "metadata": {
  "kernelspec": {
   "display_name": "Python 3",
   "language": "python",
   "name": "python3"
  },
  "language_info": {
   "codemirror_mode": {
    "name": "ipython",
    "version": 3
   },
   "file_extension": ".py",
   "mimetype": "text/x-python",
   "name": "python",
   "nbconvert_exporter": "python",
   "pygments_lexer": "ipython3",
   "version": "3.10.11"
  },
  "orig_nbformat": 4
 },
 "nbformat": 4,
 "nbformat_minor": 2
}
